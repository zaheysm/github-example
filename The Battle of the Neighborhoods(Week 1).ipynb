{
 "cells": [
  {
   "cell_type": "markdown",
   "metadata": {},
   "source": [
    "# Capstone Project - The Battle of the Neighborhoods (Week 1)\n",
    "### Applied Data Science Capstone by IBM/Coursera"
   ]
  },
  {
   "cell_type": "markdown",
   "metadata": {},
   "source": [
    "## Introduction: Best Area to open a business in Ottawa region"
   ]
  },
  {
   "cell_type": "markdown",
   "metadata": {},
   "source": [
    "In this project, I will be analyzing the Ottawa region for the best area in which a business can succeed.\n",
    "\n",
    "Since the Ottawa region is big and there are a lot of different neighborhoods, it's difficult to predict which area is the best to open up a venue.\n",
    "\n",
    "I will use data science to analyze the region by neighborhood and its population, and I will add the number of tips that people leave in that area to see which area is the most active."
   ]
  },
  {
   "cell_type": "markdown",
   "metadata": {},
   "source": [
    "## Data"
   ]
  },
  {
   "cell_type": "markdown",
   "metadata": {},
   "source": [
    "Based on the definition of our problem, the factors that will influence our decision are:\n",
    "* number of existing restaurants in the neighborhood (any type of restaurant)\n",
    "* the population of each neighborhood \n",
    "* number of tips people leave\n",
    "\n",
    "We decided to use the regularly-spaced grid of locations to define our neighborhoods.\n",
    "\n",
    "The following data sources will be needed to extract/generate the required information:\n",
    "* neighborhood areas will be generated from CSV file and approximate addresses of centers of those areas will be obtained using **Google Maps API reverse geocoding**\n",
    "* number of restaurants and their type and location in every neighborhood and tips will be obtained using **Foursquare API**\n",
    "* coordinates of Ottawa will be obtained using **Google Maps API geocoding** of well known Ottawa location "
   ]
  },
  {
   "cell_type": "code",
   "execution_count": null,
   "metadata": {},
   "outputs": [],
   "source": []
  }
 ],
 "metadata": {
  "kernelspec": {
   "display_name": "Python",
   "language": "python",
   "name": "conda-env-python-py"
  },
  "language_info": {
   "codemirror_mode": {
    "name": "ipython",
    "version": 3
   },
   "file_extension": ".py",
   "mimetype": "text/x-python",
   "name": "python",
   "nbconvert_exporter": "python",
   "pygments_lexer": "ipython3",
   "version": "3.6.10"
  }
 },
 "nbformat": 4,
 "nbformat_minor": 4
}
